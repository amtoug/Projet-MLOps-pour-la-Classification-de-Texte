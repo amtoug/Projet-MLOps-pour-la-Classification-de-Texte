{
 "cells": [
  {
   "cell_type": "code",
   "execution_count": 1,
   "id": "88877bd2",
   "metadata": {},
   "outputs": [
    {
     "name": "stderr",
     "output_type": "stream",
     "text": [
      "c:\\Users\\Abdessamad\\Desktop\\MLOpsClassificationTexteV2\\venv\\Lib\\site-packages\\tqdm\\auto.py:21: TqdmWarning: IProgress not found. Please update jupyter and ipywidgets. See https://ipywidgets.readthedocs.io/en/stable/user_install.html\n",
      "  from .autonotebook import tqdm as notebook_tqdm\n"
     ]
    }
   ],
   "source": [
    "import sys\n",
    "# from sklearn.linear_model import LogisticRegression\n",
    "# from sklearn.metrics import accuracy_score\n",
    "sys.path.append(r\"C:\\Users\\Abdessamad\\Desktop\\MLOpsClassificationTexteV2\\src\\models\")\n",
    "from base_model import BaseModel\n",
    "\n",
    "from transformers import BertTokenizer, BertForSequenceClassification, Trainer, TrainingArguments\n",
    "from sklearn.metrics import accuracy_score\n",
    "import torch\n",
    "# import tens\n",
    "# from .base_model import BaseModel  # Assure-toi que l'importation est correcte\n",
    "\n"
   ]
  },
  {
   "cell_type": "code",
   "execution_count": 2,
   "id": "cd30a0aa",
   "metadata": {},
   "outputs": [],
   "source": [
    "\n",
    "class ModeleBERT(BaseModel):\n",
    "    def __init__(self, num_labels: int = 2):\n",
    "        self.tokenizer = BertTokenizer.from_pretrained('bert-base-uncased')\n",
    "        self.model = BertForSequenceClassification.from_pretrained('bert-base-uncased', num_labels=num_labels)\n",
    "\n",
    "    def entrainer(self, X, y, batch_size: int = 3, epochs: int = 1):\n",
    "        print(\"1\")\n",
    "        encodings = self.tokenizer(X, truncation=True, padding=True, max_length=128)\n",
    "        train_dataset = torch.utils.data.TensorDataset(\n",
    "            torch.tensor(encodings['input_ids']),\n",
    "            torch.tensor(encodings['attention_mask']),\n",
    "            torch.tensor(y)\n",
    "        )\n",
    "        print(\"2\")\n",
    "        training_args = TrainingArguments(\n",
    "            output_dir='./results', num_train_epochs=epochs, per_device_train_batch_size=batch_size,\n",
    "            logging_dir='./logs', evaluation_strategy=\"epoch\"\n",
    "        )\n",
    "        print(\"1\")\n",
    "        trainer = Trainer(model=self.model, args=training_args, train_dataset=train_dataset)\n",
    "        trainer.train()\n",
    "        print(\"1\")\n",
    "\n",
    "    def predire(self, X):\n",
    "        encodings = self.tokenizer(X, truncation=True, padding=True, max_length=128, return_tensors=\"pt\")\n",
    "        with torch.no_grad():\n",
    "            outputs = self.model(**encodings)\n",
    "        return torch.argmax(outputs.logits, dim=-1).numpy()\n",
    "\n",
    "    def evaluer(self, X, y):\n",
    "        preds = self.predire(X)\n",
    "        return accuracy_score(y, preds)\n",
    "\n",
    "\n",
    "\n",
    "# import sys\n",
    "# print(sys.path)"
   ]
  },
  {
   "cell_type": "code",
   "execution_count": 3,
   "id": "be8a7794",
   "metadata": {},
   "outputs": [],
   "source": [
    "from sklearn.feature_extraction.text import TfidfVectorizer\n",
    "from sklearn.metrics import accuracy_score\n",
    "sys.path.append(r\"C:\\Users\\Abdessamad\\Desktop\\MLOpsClassificationTexteV2\\src\\data\")\n",
    "import loader \n",
    "\n",
    "# Données jouets\n",
    "# X = [\"I love this product\", \"This is awful\", \"Amazing experience\", \"Very bad\", \"Quite good\"]\n",
    "# y = [1, 0, 1, 0, 1]\n",
    "for chunk in loader.generer_donnees_test():\n",
    "    X=chunk[\"text\"]\n",
    "    y=chunk[\"label\"] # Affiche les 5 premières lignes du premier chunk\n",
    "    break \n",
    "\n",
    "\n",
    "\n",
    "#                   REGRISSION\n",
    "# Vectorisation TF-IDF\n",
    "# vectorizer = TfidfVectorizer()\n",
    "# X_vect = vectorizer.fit_transform(X)\n",
    "\n",
    "# Instancier le modèle\n",
    "# model = LogisticModel()\n",
    "\n",
    "# # Entraîner le modèle\n",
    "# model.entrainer(X_vect, y)\n",
    "\n",
    "# # Évaluer le modèle\n",
    "# acc = model.evaluer(X_vect, y)\n",
    "\n",
    "# # Afficher les résultats\n",
    "# print(\"Accuracy:\", acc)\n",
    "# print(\"Predictions:\", model.predire(X_vect))\n",
    "\n",
    "\n",
    "\n"
   ]
  },
  {
   "cell_type": "code",
   "execution_count": null,
   "id": "d291e096",
   "metadata": {},
   "outputs": [
    {
     "name": "stderr",
     "output_type": "stream",
     "text": [
      "Xet Storage is enabled for this repo, but the 'hf_xet' package is not installed. Falling back to regular HTTP download. For better performance, install the package with: `pip install huggingface_hub[hf_xet]` or `pip install hf_xet`\n"
     ]
    }
   ],
   "source": [
    "# from sklearn.metrics import accuracy_score\n",
    "\n",
    "# Données jouets\n",
    "# X = [\"I love this product\", \"This is awful\", \"Amazing experience\", \"Very bad\", \"Quite good\"]\n",
    "# y = [1, 0, 1, 0, 1]\n",
    "\n",
    "# Instancier le modèle\n",
    "modele_bert = ModeleBERT(num_labels=2)\n",
    "\n",
    "# Entraîner le modèle\n",
    "modele_bert.entrainer(X, y)\n",
    "\n",
    "# Évaluer le modèle\n",
    "acc = modele_bert.evaluer(X, y)\n",
    "\n",
    "# Afficher les résultats\n",
    "print(\"Accuracy:\", acc)\n",
    "print(\"Predictions:\", modele_bert.predire(X))\n"
   ]
  }
 ],
 "metadata": {
  "kernelspec": {
   "display_name": "venv",
   "language": "python",
   "name": "python3"
  },
  "language_info": {
   "codemirror_mode": {
    "name": "ipython",
    "version": 3
   },
   "file_extension": ".py",
   "mimetype": "text/x-python",
   "name": "python",
   "nbconvert_exporter": "python",
   "pygments_lexer": "ipython3",
   "version": "3.12.6"
  }
 },
 "nbformat": 4,
 "nbformat_minor": 5
}
