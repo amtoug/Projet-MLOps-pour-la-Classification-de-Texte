{
 "cells": [
  {
   "cell_type": "code",
   "execution_count": null,
   "id": "d96f8a8d",
   "metadata": {},
   "outputs": [],
   "source": [
    "import sys\n",
    "from sklearn.feature_extraction.text import TfidfVectorizer\n",
    "import numpy as np\n",
    "import data.loader \n",
    "import pandas as pd\n",
    "\n",
    "\n",
    "# Charger les données\n",
    "# X = []\n",
    "# y = []\n",
    "# max_chunks = 10\n",
    "# count = 0\n",
    "\n",
    "# for chunk in loader.generer_donnees_test():\n",
    "#     textes = chunk[\"text\"].astype(str).tolist()\n",
    "#     X.extend(textes)  # Liste plate\n",
    "#     y.extend(chunk[\"label\"].tolist())  # Liste plate\n",
    "#     count += 1\n",
    "#     if count >= max_chunks:\n",
    "#         break\n",
    "\n",
    "# Vectorisation TF-IDF\n",
    "# vectorizer = TfidfVectorizer()\n",
    "# X_vect = vectorizer.fit_transform(X)\n",
    "\n",
    "# # Convertir y en array si besoin\n",
    "# y = np.array(y)\n",
    "\n",
    "# Affichage\n",
    "# print(\"X_vect shape:\", X_vect.shape)\n",
    "# print(\"y shape:\", y.shape)\n"
   ]
  },
  {
   "cell_type": "code",
   "execution_count": null,
   "id": "3f1aa367",
   "metadata": {},
   "outputs": [
    {
     "name": "stderr",
     "output_type": "stream",
     "text": [
      "c:\\Users\\Abdessamad\\Desktop\\MLOpsClassificationTexteV2\\venv\\Lib\\site-packages\\sklearn\\linear_model\\_logistic.py:465: ConvergenceWarning: lbfgs failed to converge (status=1):\n",
      "STOP: TOTAL NO. OF ITERATIONS REACHED LIMIT.\n",
      "\n",
      "Increase the number of iterations (max_iter) or scale the data as shown in:\n",
      "    https://scikit-learn.org/stable/modules/preprocessing.html\n",
      "Please also refer to the documentation for alternative solver options:\n",
      "    https://scikit-learn.org/stable/modules/linear_model.html#logistic-regression\n",
      "  n_iter_i = _check_optimize_result(\n"
     ]
    },
    {
     "name": "stdout",
     "output_type": "stream",
     "text": [
      "<logistic_model.LogisticModel object at 0x000001FDF2CA5430>\n"
     ]
    },
    {
     "name": "stderr",
     "output_type": "stream",
     "text": [
      "c:\\Users\\Abdessamad\\Desktop\\MLOpsClassificationTexteV2\\venv\\Lib\\site-packages\\sklearn\\linear_model\\_logistic.py:465: ConvergenceWarning: lbfgs failed to converge (status=1):\n",
      "STOP: TOTAL NO. OF ITERATIONS REACHED LIMIT.\n",
      "\n",
      "Increase the number of iterations (max_iter) or scale the data as shown in:\n",
      "    https://scikit-learn.org/stable/modules/preprocessing.html\n",
      "Please also refer to the documentation for alternative solver options:\n",
      "    https://scikit-learn.org/stable/modules/linear_model.html#logistic-regression\n",
      "  n_iter_i = _check_optimize_result(\n"
     ]
    }
   ],
   "source": [
    "sys.path.append(r\"C:\\Users\\Abdessamad\\Desktop\\MLOpsClassificationTexteV2\\src\")\n",
    "from typing import Any\n",
    "from models.factory import get_model\n",
    "import data.loader as loader\n",
    "\n",
    "\n",
    "def Model(nameModel:str,*args:Any,**kargs:Any)->Any:\n",
    "    max_chunks = 2\n",
    "    count = 0\n",
    "    model=get_model(nameModel,*args,**kargs)\n",
    "    # model.set_max_iter=a\n",
    "    for chunk in loader.generer_donnees_test():\n",
    "        # textes = chunk[\"text\"].astype(str).tolist()\n",
    "        # X.extend(textes)  # Liste plate\n",
    "        # y.extend(chunk[\"label\"].tolist()) \n",
    "        X=chunk[\"text\"]\n",
    "        y=chunk[\"label\"]\n",
    "        vectorizer = TfidfVectorizer()\n",
    "        X_vect = vectorizer.fit_transform(X)\n",
    "\n",
    "        # Convertir y en array si besoin\n",
    "        y = np.array(y)\n",
    "        model.entrainer(X_vect,y)\n",
    "        count += 1\n",
    "        if count >= max_chunks:\n",
    "            break\n",
    "# la dernier Resultat de l'entrainement\n",
    "    return model.evaluer(X_vect,y)\n"
   ]
  },
  {
   "cell_type": "code",
   "execution_count": 12,
   "id": "b6f8bf84",
   "metadata": {},
   "outputs": [
    {
     "name": "stderr",
     "output_type": "stream",
     "text": [
      "c:\\Users\\Abdessamad\\Desktop\\MLOpsClassificationTexteV2\\venv\\Lib\\site-packages\\sklearn\\linear_model\\_logistic.py:465: ConvergenceWarning: lbfgs failed to converge (status=1):\n",
      "STOP: TOTAL NO. OF ITERATIONS REACHED LIMIT.\n",
      "\n",
      "Increase the number of iterations (max_iter) or scale the data as shown in:\n",
      "    https://scikit-learn.org/stable/modules/preprocessing.html\n",
      "Please also refer to the documentation for alternative solver options:\n",
      "    https://scikit-learn.org/stable/modules/linear_model.html#logistic-regression\n",
      "  n_iter_i = _check_optimize_result(\n",
      "c:\\Users\\Abdessamad\\Desktop\\MLOpsClassificationTexteV2\\venv\\Lib\\site-packages\\sklearn\\linear_model\\_logistic.py:465: ConvergenceWarning: lbfgs failed to converge (status=1):\n",
      "STOP: TOTAL NO. OF ITERATIONS REACHED LIMIT.\n",
      "\n",
      "Increase the number of iterations (max_iter) or scale the data as shown in:\n",
      "    https://scikit-learn.org/stable/modules/preprocessing.html\n",
      "Please also refer to the documentation for alternative solver options:\n",
      "    https://scikit-learn.org/stable/modules/linear_model.html#logistic-regression\n",
      "  n_iter_i = _check_optimize_result(\n"
     ]
    },
    {
     "name": "stdout",
     "output_type": "stream",
     "text": [
      "<logistic_model.LogisticModel object at 0x000001FDF78EBC80>\n"
     ]
    },
    {
     "name": "stderr",
     "output_type": "stream",
     "text": [
      "c:\\Users\\Abdessamad\\Desktop\\MLOpsClassificationTexteV2\\venv\\Lib\\site-packages\\sklearn\\linear_model\\_logistic.py:465: ConvergenceWarning: lbfgs failed to converge (status=1):\n",
      "STOP: TOTAL NO. OF ITERATIONS REACHED LIMIT.\n",
      "\n",
      "Increase the number of iterations (max_iter) or scale the data as shown in:\n",
      "    https://scikit-learn.org/stable/modules/preprocessing.html\n",
      "Please also refer to the documentation for alternative solver options:\n",
      "    https://scikit-learn.org/stable/modules/linear_model.html#logistic-regression\n",
      "  n_iter_i = _check_optimize_result(\n"
     ]
    },
    {
     "name": "stdout",
     "output_type": "stream",
     "text": [
      "<logistic_model.LogisticModel object at 0x000001FDF776FE90>\n"
     ]
    },
    {
     "name": "stderr",
     "output_type": "stream",
     "text": [
      "c:\\Users\\Abdessamad\\Desktop\\MLOpsClassificationTexteV2\\venv\\Lib\\site-packages\\sklearn\\linear_model\\_logistic.py:465: ConvergenceWarning: lbfgs failed to converge (status=1):\n",
      "STOP: TOTAL NO. OF ITERATIONS REACHED LIMIT.\n",
      "\n",
      "Increase the number of iterations (max_iter) or scale the data as shown in:\n",
      "    https://scikit-learn.org/stable/modules/preprocessing.html\n",
      "Please also refer to the documentation for alternative solver options:\n",
      "    https://scikit-learn.org/stable/modules/linear_model.html#logistic-regression\n",
      "  n_iter_i = _check_optimize_result(\n"
     ]
    }
   ],
   "source": [
    "print(Model(\"logistic\",10))\n",
    "\n",
    "print(Model(\"logistic\",5))"
   ]
  },
  {
   "cell_type": "code",
   "execution_count": 13,
   "id": "faa8e062",
   "metadata": {},
   "outputs": [
    {
     "name": "stdout",
     "output_type": "stream",
     "text": [
      "<RandomForestModel.RandomForestModel object at 0x000001FDF77EF410>\n",
      "<RandomForestModel.RandomForestModel object at 0x000001FDF4D2F5F0>\n"
     ]
    }
   ],
   "source": [
    "print(Model(\"RandomForestModel\",100,5))\n",
    "print(Model(\"RandomForestModel\",50,20))"
   ]
  },
  {
   "cell_type": "code",
   "execution_count": 14,
   "id": "bcc203f8",
   "metadata": {},
   "outputs": [
    {
     "name": "stdout",
     "output_type": "stream",
     "text": [
      "<GradientBoostingModel.GradientBoostingModel object at 0x000001FDF7689E20>\n",
      "<GradientBoostingModel.GradientBoostingModel object at 0x000001FDF275E8A0>\n"
     ]
    }
   ],
   "source": [
    "print(Model(\"GradientBoostingModel\",5,0.1,2))\n",
    "print(Model(\"GradientBoostingModel\",5,0.01,1))"
   ]
  },
  {
   "cell_type": "code",
   "execution_count": null,
   "id": "a2a9b3ba",
   "metadata": {},
   "outputs": [
    {
     "name": "stderr",
     "output_type": "stream",
     "text": [
      "c:\\Users\\Abdessamad\\Desktop\\MLOpsClassificationTexteV2\\venv\\Lib\\site-packages\\sklearn\\neural_network\\_multilayer_perceptron.py:691: ConvergenceWarning: Stochastic Optimizer: Maximum iterations (20) reached and the optimization hasn't converged yet.\n",
      "  warnings.warn(\n",
      "c:\\Users\\Abdessamad\\Desktop\\MLOpsClassificationTexteV2\\venv\\Lib\\site-packages\\sklearn\\neural_network\\_multilayer_perceptron.py:698: UserWarning: Training interrupted by user.\n",
      "  warnings.warn(\"Training interrupted by user.\")\n"
     ]
    },
    {
     "name": "stdout",
     "output_type": "stream",
     "text": [
      "<MLPClassifier.MLPModel object at 0x000001FDF78CBA10>\n"
     ]
    },
    {
     "name": "stderr",
     "output_type": "stream",
     "text": [
      "c:\\Users\\Abdessamad\\Desktop\\MLOpsClassificationTexteV2\\venv\\Lib\\site-packages\\sklearn\\neural_network\\_multilayer_perceptron.py:698: UserWarning: Training interrupted by user.\n",
      "  warnings.warn(\"Training interrupted by user.\")\n"
     ]
    }
   ],
   "source": [
    "print(Model(\"MLPClassifier\",solver=\"sgd\",max_iter=20))\n",
    "print(Model(\"MLPClassifier\"))"
   ]
  }
 ],
 "metadata": {
  "kernelspec": {
   "display_name": "venv",
   "language": "python",
   "name": "python3"
  },
  "language_info": {
   "codemirror_mode": {
    "name": "ipython",
    "version": 3
   },
   "file_extension": ".py",
   "mimetype": "text/x-python",
   "name": "python",
   "nbconvert_exporter": "python",
   "pygments_lexer": "ipython3",
   "version": "3.12.6"
  }
 },
 "nbformat": 4,
 "nbformat_minor": 5
}
