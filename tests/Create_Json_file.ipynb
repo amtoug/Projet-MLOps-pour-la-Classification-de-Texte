{
 "cells": [
  {
   "cell_type": "code",
   "execution_count": 3,
   "id": "494400c8",
   "metadata": {},
   "outputs": [],
   "source": [
    "import json\n",
    "\n",
    "data = {\n",
    "    \"data\": [{\"text\": f\"Texte Entr N{i}\", \"label\": i % 2} for i in range(10000)]\n",
    "}\n",
    "\n",
    "with open(\"retrain_large.json\", \"w\", encoding=\"utf-8\") as f:\n",
    "    json.dump(data, f, ensure_ascii=False, indent=2)"
   ]
  }
 ],
 "metadata": {
  "kernelspec": {
   "display_name": "venv",
   "language": "python",
   "name": "python3"
  },
  "language_info": {
   "codemirror_mode": {
    "name": "ipython",
    "version": 3
   },
   "file_extension": ".py",
   "mimetype": "text/x-python",
   "name": "python",
   "nbconvert_exporter": "python",
   "pygments_lexer": "ipython3",
   "version": "3.12.6"
  }
 },
 "nbformat": 4,
 "nbformat_minor": 5
}
